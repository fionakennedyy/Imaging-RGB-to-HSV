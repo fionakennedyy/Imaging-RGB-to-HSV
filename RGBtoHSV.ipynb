{
 "cells": [
  {
   "cell_type": "code",
   "execution_count": 8,
   "metadata": {},
   "outputs": [
    {
     "name": "stdout",
     "output_type": "stream",
     "text": [
      "The original rgb value:  [[[200  74  55]]]\n",
      "Converted to hsv:  [[[7.86206897 0.725      0.78431373]]]\n"
     ]
    }
   ],
   "source": [
    "#1: Convert the RGB to HSV code so it produces values in OpenCv's specified ranges and array structure. \n",
    "#   Your function should accept a 3D array and return HSV values in OpenCv's ranges. H -> [0,180], S -> [0,255], V -> [0,255]\n",
    "#   To test your function use the following rgb value: rgb = np.uint8([[[200,74,55]]])\n",
    "#   Your function should return: [[[4, 185, 200]]]\n",
    "\n",
    "import cv2\n",
    "import numpy as np\n",
    "from numpy import interp\n",
    "\n",
    "def rgb_to_hsv(rgb):\n",
    "    #import: rgb as 3D array [r, g, b] with values in range [0, 255]\n",
    "    #output:hsv as a 3D array [h, s, v] with values in range H -> [0,180], S -> [0,255], V -> [0,255]\n",
    "\n",
    "    #normalize color values, convert to floating point values between 0-1:\n",
    "    rgb = rgb/255\n",
    "\n",
    "    #initialize hsv:\n",
    "    h = 0.0\n",
    "    s = 0.0\n",
    "    v = 0.0\n",
    "\n",
    "    #find max and min rbg values:\n",
    "    v = np.max(rgb)\n",
    "    vMin = np.min(rgb)\n",
    "\n",
    "    #set the saturation value:\n",
    "    if(v > 0.0):\n",
    "        s = (v - vMin)/v\n",
    "    else:\n",
    "        s = 0.0\n",
    "\n",
    "    #calculate (v - vMin) convenience:\n",
    "    diff = (v - vMin)\n",
    "\n",
    "    #compute hue by the relative sizes of the rgb components:\n",
    "    #are r, g, b equal?\n",
    "    if(rgb[0][0][0] == rgb[0][0][1] and rgb[0][0][1] == rgb[0][0][2]):\n",
    "        h = 0\n",
    "    #is the point within +/- 60 degrees of the red axis?\n",
    "    elif(rgb[0][0][0] == v):\n",
    "        h = 60 * (rgb[0][0][1] - rgb[0][0][2]) /diff\n",
    "    #is the point within +/- 60 degrees of the green axis?\n",
    "    elif(rgb[0][0][1] == v):\n",
    "        h = 120 + 60 * (rgb[0][0][2] - rgb[0][0][0]) /diff\n",
    "    #is the point within +/- 60 degrees of the blue axis?\n",
    "    elif(rgb[0][0][2] == v):\n",
    "        h = 240 + 60 * (rgb[0][0][0] - rgb[0][0][1]) /diff\n",
    "    \n",
    "    #return hsv values:\n",
    "    return np.array([[[h,s,v]]])\n",
    "\n",
    "#create an rgb value:\n",
    "rgb = np.array([[[200,74,55]]])\n",
    "\n",
    "#call the rgb_to_hsv function:\n",
    "hsv = rgb_to_hsv(rgb)\n",
    "\n",
    "print(\"The original rgb value: \", rgb)\n",
    "print(\"Converted to hsv: \", hsv)"
   ]
  },
  {
   "cell_type": "code",
   "execution_count": 9,
   "metadata": {},
   "outputs": [
    {
     "name": "stdout",
     "output_type": "stream",
     "text": [
      "OpenCv hsv: [[[  4 185 200]]]\n"
     ]
    }
   ],
   "source": [
    "rgb_cv = np.uint8(rgb)\n",
    "hsv_cv = cv2.cvtColor(rgb_cv,cv2.COLOR_RGB2HSV)\n",
    "print(\"OpenCv hsv:\", hsv_cv)"
   ]
  },
  {
   "cell_type": "code",
   "execution_count": 10,
   "metadata": {},
   "outputs": [
    {
     "name": "stdout",
     "output_type": "stream",
     "text": [
      "HSV converted to OpenCv's range: [[[4, 185, 200]]]\n"
     ]
    }
   ],
   "source": [
    "#convert to open cv ranges\n",
    "s = np.interp(.725,[0,1],[0,255])\n",
    "v = np.interp(.78431,[0,1],[0,255])\n",
    "print(\"HSV converted to OpenCv's range:\", [[[round(hsv[0][0][0]/2),round(s),round(v)]]])"
   ]
  }
 ],
 "metadata": {
  "kernelspec": {
   "display_name": "Python 3",
   "language": "python",
   "name": "python3"
  },
  "language_info": {
   "codemirror_mode": {
    "name": "ipython",
    "version": 3
   },
   "file_extension": ".py",
   "mimetype": "text/x-python",
   "name": "python",
   "nbconvert_exporter": "python",
   "pygments_lexer": "ipython3",
   "version": "3.10.10"
  },
  "orig_nbformat": 4,
  "vscode": {
   "interpreter": {
    "hash": "49a5bffa4398310d5646eab42761ed0b39aa580e1a64fc16ddb6a8c66838dbd5"
   }
  }
 },
 "nbformat": 4,
 "nbformat_minor": 2
}
